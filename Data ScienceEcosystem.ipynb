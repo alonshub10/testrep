{
 "cells": [
  {
   "cell_type": "markdown",
   "id": "5d61f9eb",
   "metadata": {},
   "source": [
    "# Data Science Tools and Ecosystem"
   ]
  },
  {
   "cell_type": "markdown",
   "id": "fa942ebd",
   "metadata": {},
   "source": [
    "In this notebook, Data Science Tools and Ecosystem are summarized."
   ]
  },
  {
   "cell_type": "markdown",
   "id": "98a3c18a",
   "metadata": {},
   "source": [
    "**Some of the popular languages that Data Scientists use are:**\n",
    "- Python\n",
    "- R\n",
    "- SQL"
   ]
  },
  {
   "cell_type": "markdown",
   "id": "a034310e",
   "metadata": {},
   "source": [
    "**Some of the commonly used libraries used by Data Scientists include:**\n",
    "- Pandas\n",
    "- NumPy\n",
    "- Matplotlib"
   ]
  },
  {
   "cell_type": "markdown",
   "id": "58463e2a",
   "metadata": {},
   "source": [
    "**Data Science Tools**\n",
    "\n",
    "| Tool        |\n",
    "|-------------|\n",
    "| JupyterLab  |\n",
    "| RStudio     |\n",
    "| GitHub      |"
   ]
  },
  {
   "cell_type": "markdown",
   "id": "fb5792d1",
   "metadata": {},
   "source": [
    "### Below are a few examples of evaluating arithmetic expressions in Python"
   ]
  },
  {
   "cell_type": "code",
   "execution_count": null,
   "id": "bdd60dbb",
   "metadata": {},
   "outputs": [],
   "source": [
    "a = 2 * 3\n",
    "b = a + 5\n",
    "b"
   ]
  },
  {
   "cell_type": "code",
   "execution_count": null,
   "id": "8b950678",
   "metadata": {},
   "outputs": [],
   "source": [
    "minutes = 200\n",
    "hours = minutes / 60\n",
    "hours"
   ]
  },
  {
   "cell_type": "code",
   "execution_count": null,
   "id": "1577169a",
   "metadata": {},
   "outputs": [],
   "source": [
    "objectives = [\n",
    "    'Learn key data science tools',\n",
    "    'Understand basic libraries',\n",
    "    'Practice Jupyter Notebooks'\n",
    "]\n",
    "objectives"
   ]
  },
  {
   "cell_type": "markdown",
   "id": "2392508c",
   "metadata": {},
   "source": [
    "**Author**\n",
    "\n",
    "Alonso A T"
   ]
  }
 ],
 "metadata": {},
 "nbformat": 4,
 "nbformat_minor": 5
}
