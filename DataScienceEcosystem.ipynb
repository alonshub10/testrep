{
 "cells": [
  {
   "cell_type": "markdown",
   "id": "121054d8",
   "metadata": {},
   "source": [
    "# Data Science Tools and Ecosystem"
   ]
  },
  {
   "cell_type": "markdown",
   "id": "2b9129be",
   "metadata": {},
   "source": [
    "In this notebook, Data Science Tools and Ecosystem are summarized."
   ]
  },
  {
   "cell_type": "markdown",
   "id": "3f862763",
   "metadata": {},
   "source": [
    "Some of the popular languages that Data Scientists use are:\n",
    "1. Python\n",
    "2. R\n",
    "3. SQL\n",
    "4. Scala\n",
    "5. Julia"
   ]
  },
  {
   "cell_type": "markdown",
   "id": "28bb525b",
   "metadata": {},
   "source": [
    "Some of the commonly used libraries used by Data Scientists include:\n",
    "- Pandas\n",
    "- NumPy\n",
    "- Matplotlib\n",
    "- Scikit-learn\n",
    "- TensorFlow"
   ]
  },
  {
   "cell_type": "markdown",
   "id": "9159e239",
   "metadata": {},
   "source": [
    "| Category        | Examples                         |\n",
    "|-----------------|----------------------------------|\n",
    "| Data Management | MySQL, PostgreSQL, MongoDB       |\n",
    "| Data Analysis   | RStudio, Jupyter Notebook        |\n",
    "| ML Frameworks   | TensorFlow, Scikit-learn, PyTorch|\n",
    "| Visualization   | Tableau, PowerBI, Matplotlib     |"
   ]
  },
  {
   "cell_type": "markdown",
   "id": "52f4d9ad",
   "metadata": {},
   "source": [
    "### Examples of arithmetic expressions\n",
    "Below are some examples of simple arithmetic expressions:\n",
    "- Addition: 2 + 3\n",
    "- Multiplication: 4 * 6\n",
    "- Division: 10 / 2"
   ]
  },
  {
   "cell_type": "code",
   "execution_count": null,
   "id": "55b62fa3",
   "metadata": {},
   "outputs": [],
   "source": [
    "(3*4) + 5"
   ]
  },
  {
   "cell_type": "code",
   "execution_count": null,
   "id": "cea9727e",
   "metadata": {},
   "outputs": [],
   "source": [
    "200 / 60"
   ]
  },
  {
   "cell_type": "markdown",
   "id": "a84bb5da",
   "metadata": {},
   "source": [
    "### Objectives\n",
    "- List popular languages for Data Science\n",
    "- List common libraries for Data Science\n",
    "- Create tables with Data Science tools\n",
    "- Demonstrate simple arithmetic expressions"
   ]
  },
  {
   "cell_type": "markdown",
   "id": "306453b7",
   "metadata": {},
   "source": [
    "## Author\n",
    "Your Name Here"
   ]
  }
 ],
 "metadata": {},
 "nbformat": 4,
 "nbformat_minor": 5
}